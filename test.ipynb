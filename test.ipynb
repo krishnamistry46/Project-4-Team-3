{
 "cells": [
  {
   "cell_type": "markdown",
   "metadata": {},
   "source": []
  },
  {
   "cell_type": "code",
   "execution_count": 6,
   "metadata": {},
   "outputs": [
    {
     "name": "stdout",
     "output_type": "stream",
     "text": [
      "   Season                                     Name  Data Value\n",
      "0  Winter    Boiler Emissions- Total NOx Emissions   53.791667\n",
      "1  Winter  Boiler Emissions- Total PM2.5 Emissions    1.373958\n",
      "2  Winter    Boiler Emissions- Total SO2 Emissions   10.991667\n",
      "   Season                                              Name  Data Value\n",
      "0  Winter   Asthma emergency department visits due to PM2.5   65.850417\n",
      "1  Winter  Asthma emergency departments visits due to Ozone   71.978969\n",
      "2  Winter              Asthma hospitalizations due to Ozone   12.237397\n",
      "   Season                                    Name  Data Value\n",
      "0  Winter           Annual vehicle miles traveled   73.430218\n",
      "1  Winter    Annual vehicle miles traveled (cars)   67.773832\n",
      "2  Winter  Annual vehicle miles traveled (trucks)    3.887227\n"
     ]
    },
    {
     "name": "stderr",
     "output_type": "stream",
     "text": [
      "C:\\Users\\kirah\\AppData\\Local\\Temp\\ipykernel_1376\\409146119.py:25: SettingWithCopyWarning: \n",
      "A value is trying to be set on a copy of a slice from a DataFrame.\n",
      "Try using .loc[row_indexer,col_indexer] = value instead\n",
      "\n",
      "See the caveats in the documentation: https://pandas.pydata.org/pandas-docs/stable/user_guide/indexing.html#returning-a-view-versus-a-copy\n",
      "  boiler_emissions['Start_Date'] = pd.to_datetime(boiler_emissions['Start_Date'])\n",
      "C:\\Users\\kirah\\AppData\\Local\\Temp\\ipykernel_1376\\409146119.py:26: SettingWithCopyWarning: \n",
      "A value is trying to be set on a copy of a slice from a DataFrame.\n",
      "Try using .loc[row_indexer,col_indexer] = value instead\n",
      "\n",
      "See the caveats in the documentation: https://pandas.pydata.org/pandas-docs/stable/user_guide/indexing.html#returning-a-view-versus-a-copy\n",
      "  boiler_emissions['Month'] = boiler_emissions['Start_Date'].dt.month\n",
      "C:\\Users\\kirah\\AppData\\Local\\Temp\\ipykernel_1376\\409146119.py:27: SettingWithCopyWarning: \n",
      "A value is trying to be set on a copy of a slice from a DataFrame.\n",
      "Try using .loc[row_indexer,col_indexer] = value instead\n",
      "\n",
      "See the caveats in the documentation: https://pandas.pydata.org/pandas-docs/stable/user_guide/indexing.html#returning-a-view-versus-a-copy\n",
      "  boiler_emissions['Season'] = boiler_emissions['Month'].apply(get_season)\n",
      "C:\\Users\\kirah\\AppData\\Local\\Temp\\ipykernel_1376\\409146119.py:38: SettingWithCopyWarning: \n",
      "A value is trying to be set on a copy of a slice from a DataFrame.\n",
      "Try using .loc[row_indexer,col_indexer] = value instead\n",
      "\n",
      "See the caveats in the documentation: https://pandas.pydata.org/pandas-docs/stable/user_guide/indexing.html#returning-a-view-versus-a-copy\n",
      "  asthma_data['Start_Date'] = pd.to_datetime(asthma_data['Start_Date'])\n",
      "C:\\Users\\kirah\\AppData\\Local\\Temp\\ipykernel_1376\\409146119.py:39: SettingWithCopyWarning: \n",
      "A value is trying to be set on a copy of a slice from a DataFrame.\n",
      "Try using .loc[row_indexer,col_indexer] = value instead\n",
      "\n",
      "See the caveats in the documentation: https://pandas.pydata.org/pandas-docs/stable/user_guide/indexing.html#returning-a-view-versus-a-copy\n",
      "  asthma_data['Month'] = asthma_data['Start_Date'].dt.month\n",
      "C:\\Users\\kirah\\AppData\\Local\\Temp\\ipykernel_1376\\409146119.py:40: SettingWithCopyWarning: \n",
      "A value is trying to be set on a copy of a slice from a DataFrame.\n",
      "Try using .loc[row_indexer,col_indexer] = value instead\n",
      "\n",
      "See the caveats in the documentation: https://pandas.pydata.org/pandas-docs/stable/user_guide/indexing.html#returning-a-view-versus-a-copy\n",
      "  asthma_data['Season'] = asthma_data['Month'].apply(get_season)\n",
      "C:\\Users\\kirah\\AppData\\Local\\Temp\\ipykernel_1376\\409146119.py:49: SettingWithCopyWarning: \n",
      "A value is trying to be set on a copy of a slice from a DataFrame.\n",
      "Try using .loc[row_indexer,col_indexer] = value instead\n",
      "\n",
      "See the caveats in the documentation: https://pandas.pydata.org/pandas-docs/stable/user_guide/indexing.html#returning-a-view-versus-a-copy\n",
      "  vmt_data['Start_Date'] = pd.to_datetime(vmt_data['Start_Date'])\n",
      "C:\\Users\\kirah\\AppData\\Local\\Temp\\ipykernel_1376\\409146119.py:50: SettingWithCopyWarning: \n",
      "A value is trying to be set on a copy of a slice from a DataFrame.\n",
      "Try using .loc[row_indexer,col_indexer] = value instead\n",
      "\n",
      "See the caveats in the documentation: https://pandas.pydata.org/pandas-docs/stable/user_guide/indexing.html#returning-a-view-versus-a-copy\n",
      "  vmt_data['Month'] = vmt_data['Start_Date'].dt.month\n",
      "C:\\Users\\kirah\\AppData\\Local\\Temp\\ipykernel_1376\\409146119.py:51: SettingWithCopyWarning: \n",
      "A value is trying to be set on a copy of a slice from a DataFrame.\n",
      "Try using .loc[row_indexer,col_indexer] = value instead\n",
      "\n",
      "See the caveats in the documentation: https://pandas.pydata.org/pandas-docs/stable/user_guide/indexing.html#returning-a-view-versus-a-copy\n",
      "  vmt_data['Season'] = vmt_data['Month'].apply(get_season)\n"
     ]
    }
   ],
   "source": [
    "import pandas as pd\n",
    "import matplotlib.pyplot as plt\n",
    "import seaborn as sns\n",
    "\n",
    "# Load the data\n",
    "df = pd.read_csv('Air_Quality_20240731.csv')\n",
    "\n",
    "# Define function to get the season\n",
    "def get_season(month):\n",
    "    if month in [12, 1, 2]:\n",
    "        return 'Winter'\n",
    "    elif month in [3, 4, 5]:\n",
    "        return 'Spring'\n",
    "    elif month in [6, 7, 8]:\n",
    "        return 'Summer'\n",
    "    else:\n",
    "        return 'Fall'\n",
    "\n",
    "# Prepare Boiler Emissions Data\n",
    "boiler_emissions = df[df['Name'].isin([\n",
    "    'Boiler Emissions- Total SO2 Emissions', \n",
    "    'Boiler Emissions- Total NOx Emissions', \n",
    "    'Boiler Emissions- Total PM2.5 Emissions'\n",
    "])]\n",
    "boiler_emissions['Start_Date'] = pd.to_datetime(boiler_emissions['Start_Date'])\n",
    "boiler_emissions['Month'] = boiler_emissions['Start_Date'].dt.month\n",
    "boiler_emissions['Season'] = boiler_emissions['Month'].apply(get_season)\n",
    "seasonal_boiler_emissions = boiler_emissions.groupby(['Season', 'Name'])['Data Value'].mean().reset_index()\n",
    "\n",
    "print(seasonal_boiler_emissions)\n",
    "\n",
    "\n",
    "# Prepare Asthma-Related Data\n",
    "asthma_data = df[df['Name'].isin([\n",
    "    'Asthma emergency department visits due to PM2.5',\n",
    "    'Asthma hospitalizations due to Ozone',\n",
    "    'Asthma emergency departments visits due to Ozone'\n",
    "])]\n",
    "asthma_data['Start_Date'] = pd.to_datetime(asthma_data['Start_Date'])\n",
    "asthma_data['Month'] = asthma_data['Start_Date'].dt.month\n",
    "asthma_data['Season'] = asthma_data['Month'].apply(get_season)\n",
    "seasonal_asthma = asthma_data.groupby(['Season', 'Name'])['Data Value'].mean().reset_index()\n",
    "print(seasonal_asthma)\n",
    "# Prepare Vehicle Miles Traveled Data\n",
    "vmt_data = df[df['Name'].isin([\n",
    "    'Annual vehicle miles traveled',\n",
    "    'Annual vehicle miles traveled (trucks)',\n",
    "    'Annual vehicle miles traveled (cars)'\n",
    "])]\n",
    "vmt_data['Start_Date'] = pd.to_datetime(vmt_data['Start_Date'])\n",
    "vmt_data['Month'] = vmt_data['Start_Date'].dt.month\n",
    "vmt_data['Season'] = vmt_data['Month'].apply(get_season)\n",
    "seasonal_vmt = vmt_data.groupby(['Season', 'Name'])['Data Value'].mean().reset_index()\n",
    "print(seasonal_vmt)\n"
   ]
  },
  {
   "cell_type": "code",
   "execution_count": 16,
   "metadata": {},
   "outputs": [],
   "source": [
    "seasonal_boiler_emissions.to_csv('output/seasonal_boiler_emissions.csv', index=False)\n"
   ]
  },
  {
   "cell_type": "code",
   "execution_count": 15,
   "metadata": {},
   "outputs": [],
   "source": [
    "vmt_data.to_csv('output/vehicle_mile_travel.csv', index=False)"
   ]
  },
  {
   "cell_type": "code",
   "execution_count": 17,
   "metadata": {},
   "outputs": [],
   "source": [
    "seasonal_asthma.to_csv('output/seasonal_asthma.csv', index=False)\n"
   ]
  }
 ],
 "metadata": {
  "kernelspec": {
   "display_name": "bootcamp",
   "language": "python",
   "name": "python3"
  },
  "language_info": {
   "codemirror_mode": {
    "name": "ipython",
    "version": 3
   },
   "file_extension": ".py",
   "mimetype": "text/x-python",
   "name": "python",
   "nbconvert_exporter": "python",
   "pygments_lexer": "ipython3",
   "version": "3.10.13"
  }
 },
 "nbformat": 4,
 "nbformat_minor": 2
}
